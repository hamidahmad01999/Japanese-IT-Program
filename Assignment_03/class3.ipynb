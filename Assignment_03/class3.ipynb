{
  "nbformat": 4,
  "nbformat_minor": 0,
  "metadata": {
    "colab": {
      "provenance": []
    },
    "kernelspec": {
      "name": "python3",
      "display_name": "Python 3"
    },
    "language_info": {
      "name": "python"
    }
  },
  "cells": [
    {
      "cell_type": "markdown",
      "source": [
        "# Todo list Task"
      ],
      "metadata": {
        "id": "WALBqJFbsmLT"
      }
    },
    {
      "cell_type": "code",
      "source": [
        "todo_list =[]"
      ],
      "metadata": {
        "id": "9gfEk2-WsHrh"
      },
      "execution_count": 6,
      "outputs": []
    },
    {
      "cell_type": "code",
      "source": [
        "def add_task(task):\n",
        "  todo_list.append(task)"
      ],
      "metadata": {
        "id": "yBhYhhdZsucs"
      },
      "execution_count": 7,
      "outputs": []
    },
    {
      "cell_type": "code",
      "source": [
        "def remove_task(task):\n",
        "  if task in todo_list:\n",
        "    todo_list.remove(task)\n",
        "  else:\n",
        "    print(\"Task didn't find in list\")"
      ],
      "metadata": {
        "id": "2cCf__J4s1Ym"
      },
      "execution_count": 8,
      "outputs": []
    },
    {
      "cell_type": "code",
      "source": [
        "def view_tasks():\n",
        "  for task in todo_list:\n",
        "    print(task)"
      ],
      "metadata": {
        "id": "6ZB8kTNVtC-1"
      },
      "execution_count": 9,
      "outputs": []
    },
    {
      "cell_type": "code",
      "source": [
        "add_task(\"Learn Python\")\n",
        "add_task(\"Learn ML\")\n",
        "add_task(\"Learn AI\")\n",
        "view_tasks()"
      ],
      "metadata": {
        "colab": {
          "base_uri": "https://localhost:8080/"
        },
        "id": "yhK-IVfktKHI",
        "outputId": "e9374147-fedf-4386-8864-55067f046f55"
      },
      "execution_count": 10,
      "outputs": [
        {
          "output_type": "stream",
          "name": "stdout",
          "text": [
            "Learn Python\n",
            "Learn ML\n",
            "Learn AI\n"
          ]
        }
      ]
    },
    {
      "cell_type": "code",
      "source": [
        "remove_task(\"Learn AI\")"
      ],
      "metadata": {
        "id": "v0VB1m-stU8z"
      },
      "execution_count": 11,
      "outputs": []
    },
    {
      "cell_type": "code",
      "source": [
        "view_tasks()"
      ],
      "metadata": {
        "colab": {
          "base_uri": "https://localhost:8080/"
        },
        "id": "9YWKhC90teS3",
        "outputId": "553490c7-d4fc-4925-bcd1-c66359609858"
      },
      "execution_count": 12,
      "outputs": [
        {
          "output_type": "stream",
          "name": "stdout",
          "text": [
            "Learn Python\n",
            "Learn ML\n"
          ]
        }
      ]
    },
    {
      "cell_type": "markdown",
      "source": [
        "# Find Max and Min Value in a list"
      ],
      "metadata": {
        "id": "fstqtZdLtq_o"
      }
    },
    {
      "cell_type": "code",
      "source": [
        "def find_min_max(nums):\n",
        "  if len(nums)<1:\n",
        "    return -1,-1\n",
        "  min_value = nums[0]\n",
        "  max_value = nums[0]\n",
        "  for i in range(1,len(nums)):\n",
        "    if min_value>nums[i]:\n",
        "      min_value= nums[i]\n",
        "    if max_value<nums[i]:\n",
        "      max_value=nums[i]\n",
        "\n",
        "  return min_value, max_value"
      ],
      "metadata": {
        "id": "pZCVb2t4tfuK"
      },
      "execution_count": 13,
      "outputs": []
    },
    {
      "cell_type": "code",
      "source": [
        "list = [5, 9, 20, 30, 99, 2]"
      ],
      "metadata": {
        "id": "a2Q-jnGzuVLZ"
      },
      "execution_count": 14,
      "outputs": []
    },
    {
      "cell_type": "code",
      "source": [
        "min_value, max_value = find_min_max(list)\n",
        "print(f\"Min: {min_value}, Max: {max_value}\")"
      ],
      "metadata": {
        "colab": {
          "base_uri": "https://localhost:8080/"
        },
        "id": "9GEBXNK0uZot",
        "outputId": "742c49b4-728f-4c76-c9c7-58f65037c29a"
      },
      "execution_count": 15,
      "outputs": [
        {
          "output_type": "stream",
          "name": "stdout",
          "text": [
            "Min: 2, Max: 99\n"
          ]
        }
      ]
    },
    {
      "cell_type": "markdown",
      "source": [
        "# Contact Book"
      ],
      "metadata": {
        "id": "ckupEVEhvCQo"
      }
    },
    {
      "cell_type": "code",
      "source": [
        "phonebook = {}"
      ],
      "metadata": {
        "id": "M1h4n38duhUZ"
      },
      "execution_count": 16,
      "outputs": []
    },
    {
      "cell_type": "code",
      "source": [
        "def add_number(name, number):\n",
        "  if name not in phonebook:\n",
        "    phonebook[name]=number\n",
        "  else:\n",
        "    print(\"Name already exits in phonebook\")\n",
        "    print(\"Do you want to overwrite that number?\")\n",
        "    response = input(\"Enter y to overwrite!\")\n",
        "    response = response.lower()\n",
        "    if response == \"y\":\n",
        "      phonebook[name]=number\n",
        ""
      ],
      "metadata": {
        "id": "yHEqzyvWvSZ8"
      },
      "execution_count": 20,
      "outputs": []
    },
    {
      "cell_type": "code",
      "source": [
        "def get_number(name):\n",
        "  return phonebook.get(name, \"Name not found\")"
      ],
      "metadata": {
        "id": "63Zr_-pXv0i1"
      },
      "execution_count": 21,
      "outputs": []
    },
    {
      "cell_type": "code",
      "source": [
        "add_number(\"Fahad\", \"03001234567\")\n",
        "add_number(\"Ahmad\", \"03002234567\")\n",
        "get_number(\"Fahad\")"
      ],
      "metadata": {
        "colab": {
          "base_uri": "https://localhost:8080/",
          "height": 35
        },
        "id": "SB1IqmItv1ov",
        "outputId": "cdd80c46-10d1-4a04-d622-b11ef83c1939"
      },
      "execution_count": 23,
      "outputs": [
        {
          "output_type": "execute_result",
          "data": {
            "text/plain": [
              "'03001234567'"
            ],
            "application/vnd.google.colaboratory.intrinsic+json": {
              "type": "string"
            }
          },
          "metadata": {},
          "execution_count": 23
        }
      ]
    },
    {
      "cell_type": "markdown",
      "source": [
        "# Inventory System"
      ],
      "metadata": {
        "id": "LvrckqHbwnOB"
      }
    },
    {
      "cell_type": "code",
      "source": [
        "inventory = {}"
      ],
      "metadata": {
        "id": "KWn9FIgAwStM"
      },
      "execution_count": 24,
      "outputs": []
    },
    {
      "cell_type": "code",
      "source": [
        "def add_item(item, quantity):\n",
        "  if item in inventory:\n",
        "    inventory[item]+=quantity\n",
        "  else:\n",
        "    inventory[item]=quantity"
      ],
      "metadata": {
        "id": "Ek8cKZYcwsEb"
      },
      "execution_count": 25,
      "outputs": []
    },
    {
      "cell_type": "code",
      "source": [
        "def remove_item(item, quantity):\n",
        "  if item in inventory and inventory[item]>=quantity:\n",
        "    inventory[item]-=quantity\n",
        "    if inventory[item]==0:\n",
        "      del inventory[item]\n",
        "  else:\n",
        "    print(\"Items in inventory aren't sufficent\")"
      ],
      "metadata": {
        "id": "46oGp9xVxIHm"
      },
      "execution_count": 26,
      "outputs": []
    },
    {
      "cell_type": "code",
      "source": [
        "def view_inventory():\n",
        "  print(\"Inventory details:\")\n",
        "  for item, quantity in inventory.items():\n",
        "    print(f\"{item}: {quantity}\")"
      ],
      "metadata": {
        "id": "kZ7qS0JHxpZz"
      },
      "execution_count": 27,
      "outputs": []
    },
    {
      "cell_type": "code",
      "source": [
        "add_item(\"Apple\", 10)\n",
        "add_item(\"Banana\", 5)\n",
        "remove_item(\"Apple\", 3)\n",
        "view_inventory()"
      ],
      "metadata": {
        "colab": {
          "base_uri": "https://localhost:8080/"
        },
        "id": "cbFckzUcyCup",
        "outputId": "58334097-89d3-4945-d97a-5aa72ad1769d"
      },
      "execution_count": 29,
      "outputs": [
        {
          "output_type": "stream",
          "name": "stdout",
          "text": [
            "Inventory details:\n",
            "Apple: 7\n",
            "Banana: 5\n"
          ]
        }
      ]
    },
    {
      "cell_type": "markdown",
      "source": [
        "# ATM System Simulation"
      ],
      "metadata": {
        "id": "70ZUsn5KyUDs"
      }
    },
    {
      "cell_type": "code",
      "source": [
        "def deposit(balance, amount):\n",
        "  balance = balance+amount\n",
        "  print(f\"Amount deposited: {amount} and balance is: {balance}\")\n",
        "  return balance\n"
      ],
      "metadata": {
        "id": "fkUPAz5ayHtW"
      },
      "execution_count": 30,
      "outputs": []
    },
    {
      "cell_type": "code",
      "source": [
        "def withdraw(balance, amount):\n",
        "  if amount > balance:\n",
        "    print(\"Insufficent amount\")\n",
        "    print(f\"Current balance is: {balance}\")\n",
        "  else:\n",
        "    balance -= amount\n",
        "    print(f\"Updated balance: {balance}, Withdraw amount: {amount}\")\n",
        "  return balance"
      ],
      "metadata": {
        "id": "JSIHHYiQy6mg"
      },
      "execution_count": 31,
      "outputs": []
    },
    {
      "cell_type": "code",
      "source": [
        "def check_balance(balance):\n",
        "  print(f\"Current balance is: {balance}\")"
      ],
      "metadata": {
        "id": "hn1VbExdzXjE"
      },
      "execution_count": 32,
      "outputs": []
    },
    {
      "cell_type": "code",
      "source": [
        "balance = 1000 # Initial balance\n",
        "balance = deposit(balance, 500) # Deposit money\n",
        "balance = withdraw(balance, 200) # Withdraw money\n",
        "check_balance(balance)"
      ],
      "metadata": {
        "id": "XDUH0Eugzdgf",
        "outputId": "7bc793c4-2a28-4aa1-835c-a42ee5e37d23",
        "colab": {
          "base_uri": "https://localhost:8080/"
        }
      },
      "execution_count": 33,
      "outputs": [
        {
          "output_type": "stream",
          "name": "stdout",
          "text": [
            "Amount deposited: 500 and balance is: 1500\n",
            "Updated balance: 1300, Withdraw amount: 200\n",
            "Current balance is: 1300\n"
          ]
        }
      ]
    },
    {
      "cell_type": "code",
      "source": [],
      "metadata": {
        "id": "4HzP8uK4ziNB"
      },
      "execution_count": null,
      "outputs": []
    }
  ]
}